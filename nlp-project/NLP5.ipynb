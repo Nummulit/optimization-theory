{
 "cells": [
  {
   "cell_type": "markdown",
   "metadata": {
    "hideCode": false,
    "hidePrompt": false
   },
   "source": [
    "---\n",
    "### Task description\n",
    "Wirte procedures allowing to find an unconstrained minimum of any given function using two methods:\n",
    "1. Newton's method with golden section search used to find the stepsize.\n",
    "2. Conjugate gradient (Fletcher-Reeves) method with golden section search used to determine the stepsize.\n",
    "\n",
    "Apply the two methods (with different starting points) to the Rosenbrock function\n",
    "\n",
    "$$\n",
    "f(x_1, x_2) = 100(x_2 - x_1^2)^2 + (1 - x_1)^2\n",
    "$$\n",
    "\n",
    "and to some nonquadratic convex function of a large number of variables. Compare their speed of convergence in terms of time and in terms of the number of iterations taken to obtain a good approximation.\n",
    "\n",
    "---"
   ]
  },
  {
   "cell_type": "markdown",
   "metadata": {},
   "source": [
    "*Importing of all necessary libraries and tuning some of the global settings.*"
   ]
  },
  {
   "cell_type": "code",
   "execution_count": 1,
   "metadata": {
    "hideCode": false,
    "hidePrompt": false
   },
   "outputs": [],
   "source": [
    "import numpy as np\n",
    "import matplotlib\n",
    "import matplotlib.pyplot as plt\n",
    "from mpl_toolkits.mplot3d import Axes3D\n",
    "from tqdm.notebook import tqdm\n",
    "import timeit"
   ]
  },
  {
   "cell_type": "code",
   "execution_count": 2,
   "metadata": {
    "hideCode": false,
    "hidePrompt": false
   },
   "outputs": [],
   "source": [
    "matplotlib.rcParams['figure.figsize'] = [20, 10]\n",
    "matplotlib.rc('font', family='Lato', size=16)"
   ]
  },
  {
   "cell_type": "markdown",
   "metadata": {
    "hideCode": false,
    "hidePrompt": false
   },
   "source": [
    "---\n",
    "### 1. Golden section search.\n",
    "Implementation based on *Practical Optimization* A. Antoniou, W. S. Lu (pages 94-95)\n",
    "\n",
    "---"
   ]
  },
  {
   "cell_type": "code",
   "execution_count": 3,
   "metadata": {
    "hideCode": false,
    "hidePrompt": false
   },
   "outputs": [],
   "source": [
    "def golden_section_search(func, x_l, x_u, err=10 ** (-6), return_full=False):\n",
    "    \"\"\"\n",
    "    Return minimizer and value of `func` at this minimizer for given function `func`, lower bound of domain `x_l`, \n",
    "    upper bound of domain `x_u` withing a specified error `err`. \n",
    "    \n",
    "    If `return_false` is set to true, then additional dictionary with all intermediate points is returned.\n",
    "    \"\"\"\n",
    "    # Golden ratio\n",
    "    K = (1 + np.sqrt(5)) / 2\n",
    "    \n",
    "    # Lower and upper bounds of search domain\n",
    "    x_ls = [x_l, ]\n",
    "    x_us = [x_u, ]\n",
    "    \n",
    "    # Lengths of search domain\n",
    "    Is = [x_u - x_l, ]  # I_1\n",
    "    Is.append(Is[0] / K)  # I_2\n",
    "    \n",
    "    # Intermediate search points x_a and x_b\n",
    "    x_as = [x_u - Is[1], ]\n",
    "    x_bs = [x_l + Is[1], ]\n",
    "    \n",
    "    # Function values at those points.\n",
    "    f_as = [func(x_as[-1]), ]\n",
    "    f_bs = [func(x_bs[-1]), ]\n",
    "    \n",
    "    # Main loop.\n",
    "    x_opt = None\n",
    "    k = 0\n",
    "    while True:\n",
    "        Is.append(Is[-1] / K)\n",
    "        if f_as[k] >= f_bs[k]:\n",
    "            x_ls.append(x_as[-1])\n",
    "            x_us.append(x_us[-1])\n",
    "            x_as.append(x_bs[-1])\n",
    "            x_bs.append(x_ls[-1] + Is[-1])\n",
    "            f_as.append(f_bs[-1])\n",
    "            f_bs.append(func(x_bs[-1]))\n",
    "        else:\n",
    "            x_ls.append(x_ls[-1])\n",
    "            x_us.append(x_bs[-1])\n",
    "            x_bs.append(x_as[-1])\n",
    "            x_as.append(x_us[-1] - Is[-1])\n",
    "            f_bs.append(f_as[-1])\n",
    "            f_as.append(func(x_as[-1]))\n",
    "        if Is[k] < err or x_as[-1] > x_bs[-1]:\n",
    "            if f_as[-1] > f_bs[-1]:\n",
    "                x_opt = (x_bs[-1] + x_us[-1]) / 2\n",
    "            elif f_as[-1] == f_bs[-1]:\n",
    "                x_opt = (x_as[-1] + x_bs[-1]) / 2\n",
    "            elif f_as[-1] < f_bs[-1]:\n",
    "                x_opt = (x_ls[-1] + x_as[-1]) / 2\n",
    "            break\n",
    "        k += 1\n",
    "        \n",
    "    if return_full:\n",
    "        intermediate_pts = {\n",
    "            'I': Is,\n",
    "            'x_l': x_ls,\n",
    "            'x_u': x_us,\n",
    "            'x_a': x_as,\n",
    "            'x_b': x_bs,\n",
    "            'f_a': f_as,\n",
    "            'f_b': f_bs\n",
    "        }\n",
    "        return x_opt, func(x_opt), intermediate_pts\n",
    "    else:\n",
    "        return x_opt, func(x_opt)"
   ]
  },
  {
   "cell_type": "markdown",
   "metadata": {
    "hideCode": false,
    "hidePrompt": false
   },
   "source": [
    "Testing the golden section search on some example function."
   ]
  },
  {
   "cell_type": "code",
   "execution_count": 7,
   "metadata": {
    "hideCode": false,
    "hidePrompt": false,
    "scrolled": true
   },
   "outputs": [],
   "source": [
    "t = np.linspace(0, 1.5 * np.pi, 100)  # Domain\n",
    "func = lambda x: np.cos(x)  # Function"
   ]
  },
  {
   "cell_type": "code",
   "execution_count": 8,
   "metadata": {
    "hideCode": false,
    "hidePrompt": false,
    "scrolled": true
   },
   "outputs": [
    {
     "name": "stdout",
     "output_type": "stream",
     "text": [
      "Found minimum is at 3.1415924923451137 with a value of -0.999999999999987\n"
     ]
    }
   ],
   "source": [
    "x_opt, f_opt, pts = golden_section_search(func, 0, 1.5 * np.pi, return_full=True)\n",
    "print(f\"Found minimum is at {x_opt} with a value of {f_opt}\")"
   ]
  },
  {
   "cell_type": "markdown",
   "metadata": {
    "hideCode": false,
    "hidePrompt": false
   },
   "source": [
    "We will also plot the function and lower and upper bounds of the search interval."
   ]
  },
  {
   "cell_type": "code",
   "execution_count": 9,
   "metadata": {
    "hideCode": false,
    "hidePrompt": false,
    "scrolled": false
   },
   "outputs": [
    {
     "data": {
      "image/png": "[encoded data removed]",
      "text/plain": [
       "<Figure size 1440x720 with 1 Axes>"
      ]
     },
     "metadata": {
      "needs_background": "light"
     },
     "output_type": "display_data"
    }
   ],
   "source": [
    "plt.plot(t, func(t), color='black', label=r'$\\cos x$')\n",
    "plt.plot(pts['x_l'], func(pts['x_l']), marker='o', linestyle='', color='gold', label=r'$x_L$')\n",
    "plt.plot(pts['x_u'], func(pts['x_u']), marker='o', linestyle='', color='darkorange', label=r'$x_U$')\n",
    "plt.grid(alpha=0.3)\n",
    "plt.xlabel(r'$x$')\n",
    "plt.ylabel(r'$\\cos x$')\n",
    "plt.legend()\n",
    "plt.show()"
   ]
  },
  {
   "cell_type": "code",
   "execution_count": 38,
   "metadata": {},
   "outputs": [
    {
     "data": {
      "image/png": "[encoded data removed]",
      "text/plain": [
       "<Figure size 1440x720 with 1 Axes>"
      ]
     },
     "metadata": {
      "needs_background": "light"
     },
     "output_type": "display_data"
    }
   ],
   "source": [
    "plt.plot(pts['x_l'], 'o', color='gold', label=r'$x_L^{(k)}$')\n",
    "plt.plot(pts['x_u'], 'o', color='darkorange', label=r'$x_U^{(k)}$')\n",
    "plt.vlines(x=np.arange(len(pts['x_l'])), ymin=pts['x_l'], ymax=pts['x_u'], color='k', linestyle=':')\n",
    "plt.grid(alpha=0.3)\n",
    "plt.legend();\n",
    "plt.show();"
   ]
  },
  {
   "cell_type": "markdown",
   "metadata": {
    "hideCode": false,
    "hidePrompt": false
   },
   "source": [
    "---\n",
    "### 1. Newton's method with golden section search\n",
    "Implementation based on *Practical Optimization* A. Antoniou, W. S. Lu (page 130)\n",
    "\n",
    "---"
   ]
  },
  {
   "cell_type": "markdown",
   "metadata": {},
   "source": [
    "Before we implement the Newton's method we have to create to additional function. One for finding gradient and second for finind Hessian matrix for a specific value of $x$.\n",
    "\n",
    "Both of those functions will generate a n-dimensional neighbourhood of the given point, evaluate numericaly first or second derivatives on this neighbourhood (using [`numpy.gradient`](https://docs.scipy.org/doc/numpy/reference/generated/numpy.gradient.html) function, so second order central differences) and then compute the gradient vector or Hessian matrix for provided value."
   ]
  },
  {
   "cell_type": "code",
   "execution_count": 7,
   "metadata": {},
   "outputs": [],
   "source": [
    "def gradient_at_point(func, x, eps=0.001):\n",
    "    \"\"\"\n",
    "    Generates a n-dimensional neighbourhood for a given point, calculates gradient of function\n",
    "    `func` there and returns gradient at point `x`.\n",
    "    Optional paramteters:\n",
    "    `eps` side of the n-dimensional cube used as neighbourhood.\n",
    "    \"\"\"\n",
    "    # Generating the neighbourhood\n",
    "    N_NEIGHBOURHOOD_PTS = 5\n",
    "    intervals = []\n",
    "    for xi in x:\n",
    "        intervals.append(np.linspace(xi - eps / 2, xi + eps / 2, N_NEIGHBOURHOOD_PTS))\n",
    "    # Generating meshgrids\n",
    "    meshes = np.meshgrid(*intervals, indexing='ij')\n",
    "    # Calculating values of the function in the neighbourhood\n",
    "    func_vals = np.empty(meshes[0].shape)\n",
    "    for index in np.ndindex(*meshes[0].shape):\n",
    "        func_vals[index] = func(*[mesh[index] for mesh in meshes])\n",
    "    # Calculating the gradients in the neighbourhood\n",
    "    neighbourhood_gradients = np.gradient(func_vals, *intervals)\n",
    "    # Obtaining gradient at the x_k point (middle of the neighbourhood)\n",
    "    gradient = np.empty(x.shape)\n",
    "    for i, neighbourhood_grad in enumerate(neighbourhood_gradients):\n",
    "        gradient[i] = neighbourhood_grad[tuple(N_NEIGHBOURHOOD_PTS // 2 for _ in neighbourhood_grad.shape)]\n",
    "    return gradient"
   ]
  },
  {
   "cell_type": "markdown",
   "metadata": {},
   "source": [
    "We will check, if the gradient is calculated properly for two simple functions:"
   ]
  },
  {
   "cell_type": "code",
   "execution_count": 8,
   "metadata": {
    "scrolled": true
   },
   "outputs": [
    {
     "name": "stdout",
     "output_type": "stream",
     "text": [
      "[2. 2. 1.]\n",
      "[1. 1.]\n"
     ]
    }
   ],
   "source": [
    "def func(x, y, z):\n",
    "    return x ** 2 + 2 * y + z\n",
    "x0 = np.array([1, 2, 3])\n",
    "print(gradient_at_point(func, x0))\n",
    "print(gradient_at_point(lambda x, y: x + y, np.array([0, 0])))"
   ]
  },
  {
   "cell_type": "code",
   "execution_count": 9,
   "metadata": {},
   "outputs": [],
   "source": [
    "def hessian_at_point(func, x, eps=0.001):\n",
    "    \"\"\"\n",
    "    Generates a n-dimensional neighbourhood for a given point, calculates Hessian of function\n",
    "    `func` there and returns Hessian at point `x`.\n",
    "    `eps` side of the n-dimensional cube used as neighbourhood.\n",
    "    \"\"\"\n",
    "    # Generating the neighbourhood\n",
    "    N_NEIGHBOURHOOD_PTS = 5\n",
    "    intervals = []\n",
    "    for xi in x:\n",
    "        intervals.append(np.linspace(xi - eps / 2, xi + eps / 2, N_NEIGHBOURHOOD_PTS))\n",
    "    # Generating meshgrids\n",
    "    meshes = np.meshgrid(*intervals, indexing='ij')\n",
    "    # Calculating values of the function in the neighbourhood\n",
    "    func_vals = np.empty(meshes[0].shape)\n",
    "    for index in np.ndindex(*meshes[0].shape):\n",
    "        func_vals[index] = func(*[mesh[index] for mesh in meshes])\n",
    "    # Calculating the gradients in the neighbourhood\n",
    "    neighbourhood_gradients = np.gradient(func_vals, *intervals)\n",
    "    # Generating Hessian for each gradient and extracting the middle-point value\n",
    "    hessian = np.empty((len(x), len(x)))\n",
    "    for i, outer_grad in enumerate(neighbourhood_gradients):\n",
    "        for j, inner_grad in enumerate(np.gradient(outer_grad, *intervals)):\n",
    "            hessian[i, j] = inner_grad[tuple(N_NEIGHBOURHOOD_PTS // 2 for _ in outer_grad.shape)]\n",
    "    return hessian"
   ]
  },
  {
   "cell_type": "markdown",
   "metadata": {},
   "source": [
    "As before we check the function. As we can see some numerical errors start to emerge."
   ]
  },
  {
   "cell_type": "code",
   "execution_count": 10,
   "metadata": {},
   "outputs": [
    {
     "name": "stdout",
     "output_type": "stream",
     "text": [
      "[[ 2.00000001e+00  3.63752406e-09  0.00000000e+00]\n",
      " [ 7.27641236e-09  1.09134817e-08 -7.27595761e-09]\n",
      " [ 0.00000000e+00 -7.27618499e-09  7.27595761e-09]]\n",
      "[[2.00000000e+00 9.09494702e-10]\n",
      " [9.09494702e-10 2.00000000e+00]]\n"
     ]
    }
   ],
   "source": [
    "def func(x, y, z):\n",
    "    return x ** 2 + 2 * y + z\n",
    "x0 = np.array([1, 2, 3])\n",
    "\n",
    "print(hessian_at_point(func, x0))\n",
    "print(hessian_at_point(lambda x, y: x ** 2 + y ** 2, np.array([1, 1])))"
   ]
  },
  {
   "cell_type": "markdown",
   "metadata": {},
   "source": [
    "Now we can proceed to the Newton's method:"
   ]
  },
  {
   "cell_type": "code",
   "execution_count": 11,
   "metadata": {},
   "outputs": [],
   "source": [
    "def newtons_method(func, x0, err=10 ** (-6), return_iter=False):\n",
    "    # Inital values\n",
    "    k = 0\n",
    "    xs = [x0, ]\n",
    "    gradients = [gradient_at_point(func, xs[-1]), ]\n",
    "    hessians = [hessian_at_point(func, xs[-1]), ]\n",
    "    ds = [ - np.linalg.inv(hessians[-1]) @ gradients[-1], ]\n",
    "    alphas = []\n",
    "    alpha, _ = golden_section_search(lambda a: func(*(xs[-1] + a * ds[-1])), 0, 1)\n",
    "    alphas.append(alpha)\n",
    "    xs.append(xs[-1] + alphas[-1] * ds[-1])\n",
    "    # Main loop\n",
    "    while True:\n",
    "        # Stopping criterion\n",
    "        if np.linalg.norm(alphas[-1] * ds[-1]) < err:\n",
    "            if return_iter:\n",
    "                return xs[-1], func(*xs[-1]), k\n",
    "            return xs[-1], func(*xs[-1])\n",
    "        gradients.append(gradient_at_point(func, xs[-1]))\n",
    "        hessians.append(hessian_at_point(func, xs[-1]))\n",
    "        ds.append( - np.linalg.inv(hessians[-1]) @ gradients[-1])\n",
    "        alpha, _ = golden_section_search(lambda a: func(*(xs[-1] + a * ds[-1])), 0, 1)\n",
    "        alphas.append(alpha)\n",
    "        xs.append(xs[-1] + alphas[-1] * ds[-1])\n",
    "        k += 1"
   ]
  },
  {
   "cell_type": "markdown",
   "metadata": {},
   "source": [
    "And we check if it work for some obvious functions (shifted paraboloid)"
   ]
  },
  {
   "cell_type": "code",
   "execution_count": 12,
   "metadata": {
    "scrolled": false
   },
   "outputs": [
    {
     "name": "stdout",
     "output_type": "stream",
     "text": [
      "Found minimum is at [ 1.24255452e-14  3.00000000e+00 -2.00000000e+00] with a value of 3.8845229642028445e-27\n"
     ]
    }
   ],
   "source": [
    "def func(x, y, z):\n",
    "    return x ** 2 + (y - 3) ** 2 + (z + 2) ** 2\n",
    "x0 = np.array([1, 2, 3])\n",
    "\n",
    "x_opt, f_opt = newtons_method(func, x0)\n",
    "print(f\"Found minimum is at {x_opt} with a value of {f_opt}\")"
   ]
  },
  {
   "cell_type": "code",
   "execution_count": 15,
   "metadata": {},
   "outputs": [
    {
     "name": "stderr",
     "output_type": "stream",
     "text": [
      "C:\\Users\\kboch\\Miniconda3\\envs\\networks\\lib\\site-packages\\ipykernel_launcher.py:21: RuntimeWarning: invalid value encountered in matmul\n"
     ]
    },
    {
     "ename": "TypeError",
     "evalue": "unsupported operand type(s) for *: 'NoneType' and 'float'",
     "output_type": "error",
     "traceback": [
      "\u001b[1;31m---------------------------------------------------------------------------\u001b[0m",
      "\u001b[1;31mTypeError\u001b[0m                                 Traceback (most recent call last)",
      "\u001b[1;32m<ipython-input-15-1982ebc5e221>\u001b[0m in \u001b[0;36m<module>\u001b[1;34m\u001b[0m\n\u001b[0;32m      4\u001b[0m \u001b[1;33m\u001b[0m\u001b[0m\n\u001b[0;32m      5\u001b[0m \u001b[0mx0\u001b[0m \u001b[1;33m=\u001b[0m \u001b[0mnp\u001b[0m\u001b[1;33m.\u001b[0m\u001b[0marray\u001b[0m\u001b[1;33m(\u001b[0m\u001b[1;33m[\u001b[0m\u001b[1;36m1\u001b[0m\u001b[1;33m,\u001b[0m \u001b[1;36m2\u001b[0m\u001b[1;33m,\u001b[0m \u001b[1;36m3\u001b[0m\u001b[1;33m]\u001b[0m\u001b[1;33m)\u001b[0m\u001b[1;33m\u001b[0m\u001b[1;33m\u001b[0m\u001b[0m\n\u001b[1;32m----> 6\u001b[1;33m \u001b[0mnewtons_method\u001b[0m\u001b[1;33m(\u001b[0m\u001b[0mfunc\u001b[0m\u001b[1;33m,\u001b[0m \u001b[0mx0\u001b[0m\u001b[1;33m)\u001b[0m\u001b[1;33m\u001b[0m\u001b[1;33m\u001b[0m\u001b[0m\n\u001b[0m",
      "\u001b[1;32m<ipython-input-11-87c2bd8ede7d>\u001b[0m in \u001b[0;36mnewtons_method\u001b[1;34m(func, x0, err, return_iter)\u001b[0m\n\u001b[0;32m     20\u001b[0m         \u001b[0mhessians\u001b[0m\u001b[1;33m.\u001b[0m\u001b[0mappend\u001b[0m\u001b[1;33m(\u001b[0m\u001b[0mhessian_at_point\u001b[0m\u001b[1;33m(\u001b[0m\u001b[0mfunc\u001b[0m\u001b[1;33m,\u001b[0m \u001b[0mxs\u001b[0m\u001b[1;33m[\u001b[0m\u001b[1;33m-\u001b[0m\u001b[1;36m1\u001b[0m\u001b[1;33m]\u001b[0m\u001b[1;33m)\u001b[0m\u001b[1;33m)\u001b[0m\u001b[1;33m\u001b[0m\u001b[1;33m\u001b[0m\u001b[0m\n\u001b[0;32m     21\u001b[0m         \u001b[0mds\u001b[0m\u001b[1;33m.\u001b[0m\u001b[0mappend\u001b[0m\u001b[1;33m(\u001b[0m \u001b[1;33m-\u001b[0m \u001b[0mnp\u001b[0m\u001b[1;33m.\u001b[0m\u001b[0mlinalg\u001b[0m\u001b[1;33m.\u001b[0m\u001b[0minv\u001b[0m\u001b[1;33m(\u001b[0m\u001b[0mhessians\u001b[0m\u001b[1;33m[\u001b[0m\u001b[1;33m-\u001b[0m\u001b[1;36m1\u001b[0m\u001b[1;33m]\u001b[0m\u001b[1;33m)\u001b[0m \u001b[1;33m@\u001b[0m \u001b[0mgradients\u001b[0m\u001b[1;33m[\u001b[0m\u001b[1;33m-\u001b[0m\u001b[1;36m1\u001b[0m\u001b[1;33m]\u001b[0m\u001b[1;33m)\u001b[0m\u001b[1;33m\u001b[0m\u001b[1;33m\u001b[0m\u001b[0m\n\u001b[1;32m---> 22\u001b[1;33m         \u001b[0malpha\u001b[0m\u001b[1;33m,\u001b[0m \u001b[0m_\u001b[0m \u001b[1;33m=\u001b[0m \u001b[0mgolden_section_search\u001b[0m\u001b[1;33m(\u001b[0m\u001b[1;32mlambda\u001b[0m \u001b[0ma\u001b[0m\u001b[1;33m:\u001b[0m \u001b[0mfunc\u001b[0m\u001b[1;33m(\u001b[0m\u001b[1;33m*\u001b[0m\u001b[1;33m(\u001b[0m\u001b[0mxs\u001b[0m\u001b[1;33m[\u001b[0m\u001b[1;33m-\u001b[0m\u001b[1;36m1\u001b[0m\u001b[1;33m]\u001b[0m \u001b[1;33m+\u001b[0m \u001b[0ma\u001b[0m \u001b[1;33m*\u001b[0m \u001b[0mds\u001b[0m\u001b[1;33m[\u001b[0m\u001b[1;33m-\u001b[0m\u001b[1;36m1\u001b[0m\u001b[1;33m]\u001b[0m\u001b[1;33m)\u001b[0m\u001b[1;33m)\u001b[0m\u001b[1;33m,\u001b[0m \u001b[1;36m0\u001b[0m\u001b[1;33m,\u001b[0m \u001b[1;36m1\u001b[0m\u001b[1;33m)\u001b[0m\u001b[1;33m\u001b[0m\u001b[1;33m\u001b[0m\u001b[0m\n\u001b[0m\u001b[0;32m     23\u001b[0m         \u001b[0malphas\u001b[0m\u001b[1;33m.\u001b[0m\u001b[0mappend\u001b[0m\u001b[1;33m(\u001b[0m\u001b[0malpha\u001b[0m\u001b[1;33m)\u001b[0m\u001b[1;33m\u001b[0m\u001b[1;33m\u001b[0m\u001b[0m\n\u001b[0;32m     24\u001b[0m         \u001b[0mxs\u001b[0m\u001b[1;33m.\u001b[0m\u001b[0mappend\u001b[0m\u001b[1;33m(\u001b[0m\u001b[0mxs\u001b[0m\u001b[1;33m[\u001b[0m\u001b[1;33m-\u001b[0m\u001b[1;36m1\u001b[0m\u001b[1;33m]\u001b[0m \u001b[1;33m+\u001b[0m \u001b[0malphas\u001b[0m\u001b[1;33m[\u001b[0m\u001b[1;33m-\u001b[0m\u001b[1;36m1\u001b[0m\u001b[1;33m]\u001b[0m \u001b[1;33m*\u001b[0m \u001b[0mds\u001b[0m\u001b[1;33m[\u001b[0m\u001b[1;33m-\u001b[0m\u001b[1;36m1\u001b[0m\u001b[1;33m]\u001b[0m\u001b[1;33m)\u001b[0m\u001b[1;33m\u001b[0m\u001b[1;33m\u001b[0m\u001b[0m\n",
      "\u001b[1;32m<ipython-input-3-ca5654e3c56c>\u001b[0m in \u001b[0;36mgolden_section_search\u001b[1;34m(func, x_l, x_u, err, return_full)\u001b[0m\n\u001b[0;32m     66\u001b[0m         \u001b[1;32mreturn\u001b[0m \u001b[0mx_opt\u001b[0m\u001b[1;33m,\u001b[0m \u001b[0mfunc\u001b[0m\u001b[1;33m(\u001b[0m\u001b[0mx_opt\u001b[0m\u001b[1;33m)\u001b[0m\u001b[1;33m,\u001b[0m \u001b[0mintermediate_pts\u001b[0m\u001b[1;33m\u001b[0m\u001b[1;33m\u001b[0m\u001b[0m\n\u001b[0;32m     67\u001b[0m     \u001b[1;32melse\u001b[0m\u001b[1;33m:\u001b[0m\u001b[1;33m\u001b[0m\u001b[1;33m\u001b[0m\u001b[0m\n\u001b[1;32m---> 68\u001b[1;33m         \u001b[1;32mreturn\u001b[0m \u001b[0mx_opt\u001b[0m\u001b[1;33m,\u001b[0m \u001b[0mfunc\u001b[0m\u001b[1;33m(\u001b[0m\u001b[0mx_opt\u001b[0m\u001b[1;33m)\u001b[0m\u001b[1;33m\u001b[0m\u001b[1;33m\u001b[0m\u001b[0m\n\u001b[0m",
      "\u001b[1;32m<ipython-input-11-87c2bd8ede7d>\u001b[0m in \u001b[0;36m<lambda>\u001b[1;34m(a)\u001b[0m\n\u001b[0;32m     20\u001b[0m         \u001b[0mhessians\u001b[0m\u001b[1;33m.\u001b[0m\u001b[0mappend\u001b[0m\u001b[1;33m(\u001b[0m\u001b[0mhessian_at_point\u001b[0m\u001b[1;33m(\u001b[0m\u001b[0mfunc\u001b[0m\u001b[1;33m,\u001b[0m \u001b[0mxs\u001b[0m\u001b[1;33m[\u001b[0m\u001b[1;33m-\u001b[0m\u001b[1;36m1\u001b[0m\u001b[1;33m]\u001b[0m\u001b[1;33m)\u001b[0m\u001b[1;33m)\u001b[0m\u001b[1;33m\u001b[0m\u001b[1;33m\u001b[0m\u001b[0m\n\u001b[0;32m     21\u001b[0m         \u001b[0mds\u001b[0m\u001b[1;33m.\u001b[0m\u001b[0mappend\u001b[0m\u001b[1;33m(\u001b[0m \u001b[1;33m-\u001b[0m \u001b[0mnp\u001b[0m\u001b[1;33m.\u001b[0m\u001b[0mlinalg\u001b[0m\u001b[1;33m.\u001b[0m\u001b[0minv\u001b[0m\u001b[1;33m(\u001b[0m\u001b[0mhessians\u001b[0m\u001b[1;33m[\u001b[0m\u001b[1;33m-\u001b[0m\u001b[1;36m1\u001b[0m\u001b[1;33m]\u001b[0m\u001b[1;33m)\u001b[0m \u001b[1;33m@\u001b[0m \u001b[0mgradients\u001b[0m\u001b[1;33m[\u001b[0m\u001b[1;33m-\u001b[0m\u001b[1;36m1\u001b[0m\u001b[1;33m]\u001b[0m\u001b[1;33m)\u001b[0m\u001b[1;33m\u001b[0m\u001b[1;33m\u001b[0m\u001b[0m\n\u001b[1;32m---> 22\u001b[1;33m         \u001b[0malpha\u001b[0m\u001b[1;33m,\u001b[0m \u001b[0m_\u001b[0m \u001b[1;33m=\u001b[0m \u001b[0mgolden_section_search\u001b[0m\u001b[1;33m(\u001b[0m\u001b[1;32mlambda\u001b[0m \u001b[0ma\u001b[0m\u001b[1;33m:\u001b[0m \u001b[0mfunc\u001b[0m\u001b[1;33m(\u001b[0m\u001b[1;33m*\u001b[0m\u001b[1;33m(\u001b[0m\u001b[0mxs\u001b[0m\u001b[1;33m[\u001b[0m\u001b[1;33m-\u001b[0m\u001b[1;36m1\u001b[0m\u001b[1;33m]\u001b[0m \u001b[1;33m+\u001b[0m \u001b[0ma\u001b[0m \u001b[1;33m*\u001b[0m \u001b[0mds\u001b[0m\u001b[1;33m[\u001b[0m\u001b[1;33m-\u001b[0m\u001b[1;36m1\u001b[0m\u001b[1;33m]\u001b[0m\u001b[1;33m)\u001b[0m\u001b[1;33m)\u001b[0m\u001b[1;33m,\u001b[0m \u001b[1;36m0\u001b[0m\u001b[1;33m,\u001b[0m \u001b[1;36m1\u001b[0m\u001b[1;33m)\u001b[0m\u001b[1;33m\u001b[0m\u001b[1;33m\u001b[0m\u001b[0m\n\u001b[0m\u001b[0;32m     23\u001b[0m         \u001b[0malphas\u001b[0m\u001b[1;33m.\u001b[0m\u001b[0mappend\u001b[0m\u001b[1;33m(\u001b[0m\u001b[0malpha\u001b[0m\u001b[1;33m)\u001b[0m\u001b[1;33m\u001b[0m\u001b[1;33m\u001b[0m\u001b[0m\n\u001b[0;32m     24\u001b[0m         \u001b[0mxs\u001b[0m\u001b[1;33m.\u001b[0m\u001b[0mappend\u001b[0m\u001b[1;33m(\u001b[0m\u001b[0mxs\u001b[0m\u001b[1;33m[\u001b[0m\u001b[1;33m-\u001b[0m\u001b[1;36m1\u001b[0m\u001b[1;33m]\u001b[0m \u001b[1;33m+\u001b[0m \u001b[0malphas\u001b[0m\u001b[1;33m[\u001b[0m\u001b[1;33m-\u001b[0m\u001b[1;36m1\u001b[0m\u001b[1;33m]\u001b[0m \u001b[1;33m*\u001b[0m \u001b[0mds\u001b[0m\u001b[1;33m[\u001b[0m\u001b[1;33m-\u001b[0m\u001b[1;36m1\u001b[0m\u001b[1;33m]\u001b[0m\u001b[1;33m)\u001b[0m\u001b[1;33m\u001b[0m\u001b[1;33m\u001b[0m\u001b[0m\n",
      "\u001b[1;31mTypeError\u001b[0m: unsupported operand type(s) for *: 'NoneType' and 'float'"
     ]
    }
   ],
   "source": [
    "def func(x, y, z):\n",
    "#     return x ** 2 + (y - 3) ** 2 + (z + 2) ** 2\n",
    "    return np.exp(-0.5 * (x ** 2 + y ** 2 + z ** 2))\n",
    "\n",
    "x0 = np.array([1, 2, 3])\n",
    "newtons_method(func, x0)"
   ]
  },
  {
   "cell_type": "markdown",
   "metadata": {},
   "source": [
    "Everything works!"
   ]
  },
  {
   "cell_type": "markdown",
   "metadata": {
    "hideCode": false,
    "hidePrompt": false
   },
   "source": [
    "---\n",
    "### 2. Conjugate gradient (Fletcher-Reeves)  with golden section search\n",
    "Implementation based on *Practical Optimization* A. Antoniou, W. S. Lu (page 159)\n",
    "\n",
    "---"
   ]
  },
  {
   "cell_type": "code",
   "execution_count": null,
   "metadata": {},
   "outputs": [],
   "source": [
    "def fletcher_reeves_method(func, x0, err=10 ** (-6), n=10, return_iter=False, iteration_number=0):\n",
    "    # Initial values\n",
    "    k = 0\n",
    "    xs = [x0, ]\n",
    "    gradients = [gradient_at_point(func, xs[-1]), ]\n",
    "    ds = [ - gradients[-1], ]\n",
    "    alphas = []\n",
    "    betas = []\n",
    "    # Main loop\n",
    "    while True:\n",
    "        alpha, _ = golden_section_search(lambda a: func(*(xs[-1] + a * ds[-1])), -10, 10)\n",
    "        alphas.append(alpha)\n",
    "        xs.append(xs[-1] + alphas[-1] * ds[-1])\n",
    "        # Stopin criterion\n",
    "        if np.linalg.norm(alphas[-1] * ds[-1]) < err:\n",
    "            if return_iter:\n",
    "                return xs[-1], func(*xs[-1]), iteration_number\n",
    "            return xs[-1], func(*xs[-1])\n",
    "        # Re-initialization\n",
    "        if k == n - 1:\n",
    "            return fletcher_reeves_method(func, xs[-1], err=err, n=n, return_iter=return_iter, \n",
    "                                          iteration_number=iteration_number)\n",
    "        gradients.append(gradient_at_point(func, xs[-1]))\n",
    "        betas.append((gradients[-1].T @ gradients[-1]) / (gradients[-2].T @ gradients[-2]))\n",
    "        ds.append( - gradients[-1] + betas[-1] * ds[-1])\n",
    "        k += 1 \n",
    "        iteration_number += 1"
   ]
  },
  {
   "cell_type": "markdown",
   "metadata": {},
   "source": [
    "We check it on the same function as before:"
   ]
  },
  {
   "cell_type": "code",
   "execution_count": null,
   "metadata": {},
   "outputs": [],
   "source": [
    "def func(x, y, z):\n",
    "    return x ** 2 + (y - 3) ** 2 + (z + 2) ** 2\n",
    "x0 = np.array([1, 2, 3])\n",
    "\n",
    "x_opt, f_opt = fletcher_reeves_method(func, x0)\n",
    "print(f\"Found minimum is at {x_opt} with a value of {f_opt}\")"
   ]
  },
  {
   "cell_type": "markdown",
   "metadata": {},
   "source": [
    "And we obtain other appropriate result!"
   ]
  },
  {
   "cell_type": "markdown",
   "metadata": {},
   "source": [
    "---\n",
    "### The Rosenbrock function.\n",
    "---"
   ]
  },
  {
   "cell_type": "markdown",
   "metadata": {},
   "source": [
    "We define the Rosenbrock function:"
   ]
  },
  {
   "cell_type": "code",
   "execution_count": null,
   "metadata": {
    "hideCode": false,
    "hidePrompt": false
   },
   "outputs": [],
   "source": [
    "def rosenbrock(x1, x2):\n",
    "    return 100 * (x2 - x1 ** 2) ** 2 + (1 - x1) ** 2"
   ]
  },
  {
   "cell_type": "markdown",
   "metadata": {},
   "source": [
    "And plot it on a $[-2, 2] \\times [-1, 2]$ rectangle."
   ]
  },
  {
   "cell_type": "code",
   "execution_count": null,
   "metadata": {},
   "outputs": [],
   "source": [
    "x1s = np.linspace(-2, 2)\n",
    "x2s = np.linspace(-1, 2)"
   ]
  },
  {
   "cell_type": "code",
   "execution_count": null,
   "metadata": {},
   "outputs": [],
   "source": [
    "rosenbrock_vals = np.empty(shape=(len(x1s), len(x2s)))\n",
    "for i, x1 in enumerate(x1s):\n",
    "    for j, x2 in enumerate(x2s):\n",
    "        rosenbrock_vals[i, j] = rosenbrock(x1, x2)"
   ]
  },
  {
   "cell_type": "code",
   "execution_count": null,
   "metadata": {
    "scrolled": false
   },
   "outputs": [],
   "source": [
    "x, y = np.meshgrid(x1s, x2s)\n",
    "fig = plt.figure()\n",
    "ax = fig.gca(projection='3d')\n",
    "surface = ax.plot_surface(x, y, rosenbrock_vals, cmap=matplotlib.cm.Spectral)\n",
    "fig.colorbar(surface, shrink=0.8, aspect=15)\n",
    "ax.set_xlabel(r'$ x_1 $')\n",
    "ax.set_ylabel(r'$ x_2 $')\n",
    "ax.set_zlabel(r'$ 100(x_2 - x_1^2)^2 + (1 - x_1)^2 $')\n",
    "plt.show()"
   ]
  },
  {
   "cell_type": "markdown",
   "metadata": {},
   "source": [
    "For those parameters the Rosenbrock function should have a minimum at the point $(1, 1)$ with a value of $0$.\n",
    "\n",
    "We will check if previously defined algorithms reach that minimum. Our starting point would be $(0, 2)$ (but it could be any other)."
   ]
  },
  {
   "cell_type": "code",
   "execution_count": null,
   "metadata": {},
   "outputs": [],
   "source": [
    "x0 = np.array([0, 2])"
   ]
  },
  {
   "cell_type": "code",
   "execution_count": null,
   "metadata": {},
   "outputs": [],
   "source": [
    "x_opt, f_opt = newtons_method(rosenbrock, x0)\n",
    "print(f\"Found minimum is at {x_opt} with a value of {f_opt}\")"
   ]
  },
  {
   "cell_type": "code",
   "execution_count": null,
   "metadata": {
    "scrolled": false
   },
   "outputs": [],
   "source": [
    "x_opt, f_opt = fletcher_reeves_method(rosenbrock, x0)\n",
    "print(f\"Found minimum is at {x_opt} with a value of {f_opt}\")"
   ]
  },
  {
   "cell_type": "markdown",
   "metadata": {
    "hideCode": false,
    "hidePrompt": false
   },
   "source": [
    "---\n",
    "### Speed of convergence in terms of number of iterations.\n",
    "---"
   ]
  },
  {
   "cell_type": "code",
   "execution_count": null,
   "metadata": {},
   "outputs": [],
   "source": [
    "eps = np.logspace(-8, -2, num=50)\n",
    "n_iter_netwon = []\n",
    "n_iter_fr = []\n",
    "for e in eps:\n",
    "    x_opt1, f_opt1, k_newton = newtons_method(rosenbrock, x0, err=e, return_iter=True)\n",
    "    x_opt2, f_opt2, k_fr = fletcher_reeves_method(rosenbrock, x0, err=e, return_iter=True)\n",
    "    n_iter_netwon.append(k_newton)\n",
    "    n_iter_fr.append(k_fr)"
   ]
  },
  {
   "cell_type": "code",
   "execution_count": null,
   "metadata": {
    "scrolled": false
   },
   "outputs": [],
   "source": [
    "plt.plot(eps, n_iter_netwon, color='red', label='Newton\\'s')\n",
    "plt.plot(eps, n_iter_fr, color='green', label='Fletcher-Reeves')\n",
    "plt.xlabel('Acceptable error')\n",
    "plt.ylabel('Number of iterations')\n",
    "plt.gca().set_xscale('log')\n",
    "plt.grid(alpha=0.3)\n",
    "plt.legend()\n",
    "plt.show()"
   ]
  },
  {
   "cell_type": "markdown",
   "metadata": {},
   "source": [
    "---\n",
    "### Speed of convergence in terms of time.\n",
    "---"
   ]
  },
  {
   "cell_type": "code",
   "execution_count": null,
   "metadata": {},
   "outputs": [],
   "source": [
    "eps = np.logspace(-8, -2, num=50)\n",
    "time_newton = []\n",
    "time_fr = []\n",
    "for e in tqdm(eps):\n",
    "    time_newton.append(timeit.timeit(lambda : newtons_method(rosenbrock, x0, err=e), number=100))\n",
    "    time_fr.append(timeit.timeit(lambda : fletcher_reeves_method(rosenbrock, x0, err=e), number=100))"
   ]
  },
  {
   "cell_type": "code",
   "execution_count": null,
   "metadata": {},
   "outputs": [],
   "source": [
    "plt.plot(eps, time_newton, color='red', label='Newton\\'s')\n",
    "plt.plot(eps, time_fr, color='green', label='Fletcher-Reeves')\n",
    "plt.xlabel('Acceptable error')\n",
    "plt.ylabel('Time [seconds] (100 repetitions)')\n",
    "plt.gca().set_xscale('log')\n",
    "plt.grid(alpha=0.3)\n",
    "plt.legend()\n",
    "plt.show()"
   ]
  }
 ],
 "metadata": {
  "hide_code_all_hidden": false,
  "kernelspec": {
   "display_name": "Python 3",
   "language": "python",
   "name": "python3"
  },
  "language_info": {
   "codemirror_mode": {
    "name": "ipython",
    "version": 3
   },
   "file_extension": ".py",
   "mimetype": "text/x-python",
   "name": "python",
   "nbconvert_exporter": "python",
   "pygments_lexer": "ipython3",
   "version": "3.7.3"
  }
 },
 "nbformat": 4,
 "nbformat_minor": 2
}
