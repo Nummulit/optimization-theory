{
 "cells": [
  {
   "cell_type": "markdown",
   "metadata": {},
   "source": [
    "### The problem"
   ]
  },
  {
   "cell_type": "markdown",
   "metadata": {},
   "source": [
    "Consider an airline that has demand for baggage handlers in a domestic airport. THe hourly requrements for 24 hours starting from midnight are 5, 4, 3, 2, 2, 5 6, 7, 9, 11, 13, 14, 11, 9, 11, 12, 14, 15, 18, 20, 16, 10, 7 and 5 respectively. There are 6 shifts for handlers: the first shift may start at midnight, at 1AM, at 2AM or at 3AM. If the first shift started at hour $H$, the next shifts start at $H + 4$, $H + 8$, $H + 12$, $H + 16$ and $H + 20$. Each shift works for 9 consecutive hours. The demand is the same for all days. Using an integer programming model find the minimum number of handlers required that meets the demand and hour at which the first shift should start so that this minimum number of handlers is minimized."
   ]
  },
  {
   "cell_type": "markdown",
   "metadata": {},
   "source": [
    "#### Solution\n",
    "\n",
    "Let us denote number of handlers at $i$-th shift by $x_i$, where $i \\in \\{ 0, \\dots, 5 \\}$. Then our problem is to minimize the total number of handlers, i.e.\n",
    "\n",
    "$$\n",
    "\\min \\sum_{i=0}^5 x_i\n",
    "\\text.\n",
    "$$\n",
    "\n",
    "We will have four different optimization problems depending on the shift start time. For example, if the shift would start at midnight, then for first eight hours we would have\n",
    "\n",
    "\\begin{array}{}\n",
    "x_0 + x_5 \\ge 5 \\\\\n",
    "x_0 + x_5 \\ge 4 \\\\\n",
    "x_0 + x_5 \\ge 3 \\\\\n",
    "x_0 + x_5 \\ge 2 \\\\\n",
    "x_0 + x_2 \\ge 2 \\\\\n",
    "x_0 + x_2 \\ge 5 \\\\\n",
    "x_0 + x_2 \\ge 6 \\\\\n",
    "x_0 + x_2 \\ge 7 \\\\\n",
    "\\qquad\\dots\n",
    "\\end{array}\n",
    "\n",
    "And if the shift would start at 1AM, then the handlers would shift one row down, i.e.\n",
    "\n",
    "\\begin{array}{}\n",
    "x_4 + x_5 \\ge 5 \\\\\n",
    "x_0 + x_5 \\ge 4 \\\\\n",
    "x_0 + x_5 \\ge 3 \\\\\n",
    "x_0 + x_5 \\ge 2 \\\\\n",
    "x_0 + x_5 \\ge 2 \\\\\n",
    "x_0 + x_2 \\ge 5 \\\\\n",
    "x_0 + x_2 \\ge 6 \\\\\n",
    "x_0 + x_2 \\ge 7 \\\\\n",
    "\\qquad\\dots\n",
    "\\end{array}\n",
    "\n",
    "Each of those problem can be also presented in a matrix form, for example $A_{12AM}$ would be a $24$ rows by $6$ columns matrix. Where each row would have only two nonzero values corresponding to the current baggage handlers working. \n",
    "\n",
    "Then the mimimization problem would be\n",
    "\n",
    "\\begin{array}{}\n",
    "\\min & c^\\intercal x \\\\\n",
    "\\text{subject to} & A_{12AM} x > b \\\\\n",
    "\\end{array}\n",
    "\n",
    "where $c \\in \\mathbf{R}^6$ is a vector of ones and $b \\in \\mathbf{R}^{24}$ is a vector of corresponding hourly requirements.\n",
    "\n",
    "We thus have four problems to solve:\n",
    "\n",
    "\\begin{array}{}\n",
    "\\min & c^\\intercal x \\\\\n",
    "\\text{subject to} & A_{12AM} x \\ge b \\\\\n",
    "\\tag{1}\n",
    "\\end{array}\n",
    "\n",
    "\\begin{array}{}\n",
    "\\min & c^\\intercal x \\\\\n",
    "\\text{subject to} & A_{1AM} x \\ge b \\\\\n",
    "\\tag{2}\n",
    "\\end{array}\n",
    "\n",
    "\\begin{array}{}\n",
    "\\min & c^\\intercal x \\\\\n",
    "\\text{subject to} & A_{2AM} x \\ge b \\\\\n",
    "\\tag{3}\n",
    "\\end{array}\n",
    "\n",
    "\\begin{array}{}\n",
    "\\min & c^\\intercal x \\\\\n",
    "\\text{subject to} & A_{3AM} x \\ge b \\\\\n",
    "\\tag{4}\n",
    "\\end{array}\n",
    "\n",
    "Where only the matrices are different. From the obtained solutions we can manually choose the optimal one. Although the problems are not in the cannonical form (we would have to switch the sign in the inequality), the software we will be using does not require that."
   ]
  },
  {
   "cell_type": "markdown",
   "metadata": {},
   "source": [
    "#### Implementation"
   ]
  },
  {
   "cell_type": "code",
   "execution_count": 1,
   "metadata": {},
   "outputs": [],
   "source": [
    "import numpy as np\n",
    "from pulp import *"
   ]
  },
  {
   "cell_type": "markdown",
   "metadata": {},
   "source": [
    "Firstly we need to define the $b$ vector and the $A_i$ matrices"
   ]
  },
  {
   "cell_type": "code",
   "execution_count": 2,
   "metadata": {},
   "outputs": [],
   "source": [
    "# x vector\n",
    "SHIFTS = [0, 1, 2, 3, 4, 5]"
   ]
  },
  {
   "cell_type": "code",
   "execution_count": 3,
   "metadata": {},
   "outputs": [],
   "source": [
    "# b vector\n",
    "HOURLY_REQUIREMENTS = [5, 4, 3, 2, 2, 5, 6, 7, 9, 11, 13, 14, 11,\n",
    "                       9, 11, 12, 14, 15, 18, 20, 16, 10, 7, 5]"
   ]
  },
  {
   "cell_type": "code",
   "execution_count": 4,
   "metadata": {},
   "outputs": [],
   "source": [
    "# A_i matrices\n",
    "A_12AM = np.array([\n",
    "    [1, 0, 0, 0, 0, 1],  # 00:00 1st shift starts\n",
    "    [1, 0, 0, 0, 0, 1],\n",
    "    [1, 0, 0, 0, 0, 1],\n",
    "    [1, 0, 0, 0, 0, 1],\n",
    "    [1, 1, 0, 0, 0, 0],  # 04:00 2nd shift starts\n",
    "    [1, 1, 0, 0, 0, 0],\n",
    "    [1, 1, 0, 0, 0, 0],\n",
    "    [1, 1, 0, 0, 0, 0],\n",
    "    [0, 1, 1, 0, 0, 0],  # 08:00 3rd shift starts\n",
    "    [0, 1, 1, 0, 0, 0],\n",
    "    [0, 1, 1, 0, 0, 0],\n",
    "    [0, 1, 1, 0, 0, 0],\n",
    "    [0, 0, 1, 1, 0, 0],  # 12:00 4th shift starts\n",
    "    [0, 0, 1, 1, 0, 0],\n",
    "    [0, 0, 1, 1, 0, 0],\n",
    "    [0, 0, 1, 1, 0, 0],\n",
    "    [0, 0, 0, 1, 1, 0],  # 16:00 5th shift starts\n",
    "    [0, 0, 0, 1, 1, 0],\n",
    "    [0, 0, 0, 1, 1, 0],\n",
    "    [0, 0, 0, 1, 1, 0],\n",
    "    [0, 0, 0, 0, 1, 1],  # 20:00 6th shift starts\n",
    "    [0, 0, 0, 0, 1, 1],\n",
    "    [0, 0, 0, 0, 1, 1],\n",
    "    [0, 0, 0, 0, 1, 1],\n",
    "])\n",
    "\n",
    "A_1AM = np.array([\n",
    "    [0, 0, 0, 0, 1, 1],\n",
    "    [1, 0, 0, 0, 0, 1],  # 01:00 1st shift starts\n",
    "    [1, 0, 0, 0, 0, 1],\n",
    "    [1, 0, 0, 0, 0, 1],\n",
    "    [1, 0, 0, 0, 0, 1],\n",
    "    [1, 1, 0, 0, 0, 0],  # 05:00 2nd shift starts\n",
    "    [1, 1, 0, 0, 0, 0],\n",
    "    [1, 1, 0, 0, 0, 0],\n",
    "    [1, 1, 0, 0, 0, 0],\n",
    "    [0, 1, 1, 0, 0, 0],  # 09:00 3rd shift starts\n",
    "    [0, 1, 1, 0, 0, 0],\n",
    "    [0, 1, 1, 0, 0, 0],\n",
    "    [0, 1, 1, 0, 0, 0],\n",
    "    [0, 0, 1, 1, 0, 0],  # 13:00 4th shift starts\n",
    "    [0, 0, 1, 1, 0, 0],\n",
    "    [0, 0, 1, 1, 0, 0],\n",
    "    [0, 0, 1, 1, 0, 0],\n",
    "    [0, 0, 0, 1, 1, 0],  # 17:00 5th shift starts\n",
    "    [0, 0, 0, 1, 1, 0],\n",
    "    [0, 0, 0, 1, 1, 0],\n",
    "    [0, 0, 0, 1, 1, 0],\n",
    "    [0, 0, 0, 0, 1, 1],  # 21:00 6th shift starts\n",
    "    [0, 0, 0, 0, 1, 1],\n",
    "    [0, 0, 0, 0, 1, 1],\n",
    "])\n",
    "\n",
    "A_2AM = np.array([\n",
    "    [0, 0, 0, 0, 1, 1],\n",
    "    [0, 0, 0, 0, 1, 1],\n",
    "    [1, 0, 0, 0, 0, 1],  # 02:00 1st shift starts\n",
    "    [1, 0, 0, 0, 0, 1],\n",
    "    [1, 0, 0, 0, 0, 1],\n",
    "    [1, 0, 0, 0, 0, 1],\n",
    "    [1, 1, 0, 0, 0, 0],  # 06:00 2nd shift starts\n",
    "    [1, 1, 0, 0, 0, 0],\n",
    "    [1, 1, 0, 0, 0, 0],\n",
    "    [1, 1, 0, 0, 0, 0],\n",
    "    [0, 1, 1, 0, 0, 0],  # 10:00 3rd shift starts\n",
    "    [0, 1, 1, 0, 0, 0],\n",
    "    [0, 1, 1, 0, 0, 0],\n",
    "    [0, 1, 1, 0, 0, 0],\n",
    "    [0, 0, 1, 1, 0, 0],  # 14:00 4th shift starts\n",
    "    [0, 0, 1, 1, 0, 0],\n",
    "    [0, 0, 1, 1, 0, 0],\n",
    "    [0, 0, 1, 1, 0, 0],\n",
    "    [0, 0, 0, 1, 1, 0],  # 18:00 5th shift starts\n",
    "    [0, 0, 0, 1, 1, 0],\n",
    "    [0, 0, 0, 1, 1, 0],\n",
    "    [0, 0, 0, 1, 1, 0],\n",
    "    [0, 0, 0, 0, 1, 1],  # 22:00 6th shift starts\n",
    "    [0, 0, 0, 0, 1, 1],\n",
    "])\n",
    "\n",
    "A_3AM = np.array([\n",
    "    [0, 0, 0, 0, 1, 1],\n",
    "    [0, 0, 0, 0, 1, 1],\n",
    "    [0, 0, 0, 0, 1, 1],\n",
    "    [1, 0, 0, 0, 0, 1],  # 03:00 1st shift starts\n",
    "    [1, 0, 0, 0, 0, 1],\n",
    "    [1, 0, 0, 0, 0, 1],\n",
    "    [1, 0, 0, 0, 0, 1],\n",
    "    [1, 1, 0, 0, 0, 0],  # 07:00 2nd shift starts\n",
    "    [1, 1, 0, 0, 0, 0],\n",
    "    [1, 1, 0, 0, 0, 0],\n",
    "    [1, 1, 0, 0, 0, 0],\n",
    "    [0, 1, 1, 0, 0, 0],  # 11:00 3rd shift starts\n",
    "    [0, 1, 1, 0, 0, 0],\n",
    "    [0, 1, 1, 0, 0, 0],\n",
    "    [0, 1, 1, 0, 0, 0],\n",
    "    [0, 0, 1, 1, 0, 0],  # 15:00 4th shift starts\n",
    "    [0, 0, 1, 1, 0, 0],\n",
    "    [0, 0, 1, 1, 0, 0],\n",
    "    [0, 0, 1, 1, 0, 0],\n",
    "    [0, 0, 0, 1, 1, 0],  # 19:00 5th shift starts\n",
    "    [0, 0, 0, 1, 1, 0],\n",
    "    [0, 0, 0, 1, 1, 0],\n",
    "    [0, 0, 0, 1, 1, 0],\n",
    "    [0, 0, 0, 0, 1, 1],  # 23:00 6th shift starts\n",
    "])"
   ]
  },
  {
   "cell_type": "markdown",
   "metadata": {},
   "source": [
    "Then for each matrix we will define a problem using python `pulp` libary, solve it and add results to solutions list."
   ]
  },
  {
   "cell_type": "code",
   "execution_count": 5,
   "metadata": {},
   "outputs": [],
   "source": [
    "solutions = []"
   ]
  },
  {
   "cell_type": "code",
   "execution_count": 6,
   "metadata": {},
   "outputs": [],
   "source": [
    "for A in [A_12AM, A_1AM, A_2AM, A_3AM]:\n",
    "    # Creating the LP problem.\n",
    "    problem = LpProblem(\"\", LpMinimize)\n",
    "    # Creating a representation of problem variables\n",
    "    var_names = LpVariable.dict(\"Shift\", SHIFTS, 0, None, LpInteger)\n",
    "    # Adding the objective function.\n",
    "    problem += lpSum(var_names), \"Total number of handlers\"\n",
    "    # Adding the constraints.\n",
    "    for i, (row, hours) in enumerate(zip(A, HOURLY_REQUIREMENTS)):\n",
    "        problem += lpSum([row[i] * var_names[i] for i in var_names]) >= hours, f\"Hour{i:02}:00\"\n",
    "    # Solving the problem.\n",
    "    problem.solve();\n",
    "    if not problem.status == 1:\n",
    "        raise Exception(\"Unable to solve the problem.\");\n",
    "    solution_location = tuple(_.varValue for _ in problem.variables())\n",
    "    solutions.append((solution_location, np.sum(solution_location)))    "
   ]
  },
  {
   "cell_type": "code",
   "execution_count": 7,
   "metadata": {
    "scrolled": false
   },
   "outputs": [
    {
     "name": "stdout",
     "output_type": "stream",
     "text": [
      "Solution at (0.0, 11.0, 3.0, 9.0, 11.0, 5.0) with value 39.0.\n",
      "Solution at (0.0, 14.0, 0.0, 14.0, 6.0, 4.0) with value 38.0.\n",
      "Solution at (0.0, 14.0, 0.0, 18.0, 2.0, 5.0) with value 39.0.\n",
      "Solution at (0.0, 14.0, 0.0, 20.0, 0.0, 6.0) with value 40.0.\n"
     ]
    }
   ],
   "source": [
    "for solution, value in solutions:\n",
    "    print(f\"Solution at {solution} with value {value}.\")"
   ]
  },
  {
   "cell_type": "markdown",
   "metadata": {},
   "source": [
    "If we look at the fourth solutions we will see that the minimum value of $38$ workers is obtained at point $[ 0, 14, 0, 14, 6, 4]$ so we dont ever need the 1st nor 3rd shift, which might be suprising!\n",
    "\n",
    "What is even more interesting is that the solution for shifts starting at 3AM. For only 2 more baggage handlers, we can have only 3 shifts, which could, maybe, lower the management costs, although we did not have that constraint in the problem."
   ]
  }
 ],
 "metadata": {
  "kernelspec": {
   "display_name": "Python 3",
   "language": "python",
   "name": "python3"
  },
  "language_info": {
   "codemirror_mode": {
    "name": "ipython",
    "version": 3
   },
   "file_extension": ".py",
   "mimetype": "text/x-python",
   "name": "python",
   "nbconvert_exporter": "python",
   "pygments_lexer": "ipython3",
   "version": "3.7.3"
  }
 },
 "nbformat": 4,
 "nbformat_minor": 2
}
