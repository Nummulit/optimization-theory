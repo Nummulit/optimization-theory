{
 "cells": [
  {
   "cell_type": "markdown",
   "metadata": {},
   "source": [
    "### Testing the `PuLP` library\n",
    "*https://coin-or.github.io/pulp/index.html*"
   ]
  },
  {
   "cell_type": "code",
   "execution_count": 2,
   "metadata": {},
   "outputs": [],
   "source": [
    "from pulp import *"
   ]
  },
  {
   "cell_type": "code",
   "execution_count": 6,
   "metadata": {},
   "outputs": [],
   "source": [
    "prob = LpProblem(\"TheWhiskasProblem\", LpMinimize);"
   ]
  },
  {
   "cell_type": "code",
   "execution_count": 7,
   "metadata": {},
   "outputs": [],
   "source": [
    "x1 = LpVariable(\"ChickenPercent\", 0, None, LpInteger)\n",
    "x2 = LpVariable(\"BeefPercent\", 0)"
   ]
  },
  {
   "cell_type": "code",
   "execution_count": 14,
   "metadata": {},
   "outputs": [],
   "source": [
    "prob += 0.013 * x1 + 0.008 * x2, \"Total Cost of Ingredient per can\""
   ]
  },
  {
   "cell_type": "code",
   "execution_count": 16,
   "metadata": {},
   "outputs": [],
   "source": [
    "prob += x1 + x2 == 100, \"PercentagesSum\"\n",
    "prob += 0.1 * x1 + 0.2 * x2 >= 8.0, \"ProteinRequirement\"\n",
    "prob += 0.08 * x1 + 0.1 * x2 >= 6.0, \"FatRequrement\"\n",
    "prob += 0.001 * x1 + 0.005 * x2 <= 2.0, \"FibreRequirement\"\n",
    "prob += 0.002 * x1 + 0.005 * x2 <= 0.4, \"SaltRequirement\""
   ]
  },
  {
   "cell_type": "code",
   "execution_count": 18,
   "metadata": {
    "scrolled": true
   },
   "outputs": [
    {
     "data": {
      "text/plain": [
       "[BeefPercent, ChickenPercent]"
      ]
     },
     "execution_count": 18,
     "metadata": {},
     "output_type": "execute_result"
    }
   ],
   "source": [
    "# The problem data is written to an .lp file\n",
    "prob.writeLP(\"WhiskasModel.lp\")"
   ]
  },
  {
   "cell_type": "code",
   "execution_count": 19,
   "metadata": {},
   "outputs": [
    {
     "data": {
      "text/plain": [
       "1"
      ]
     },
     "execution_count": 19,
     "metadata": {},
     "output_type": "execute_result"
    }
   ],
   "source": [
    "prob.solve()"
   ]
  },
  {
   "cell_type": "code",
   "execution_count": 20,
   "metadata": {},
   "outputs": [
    {
     "name": "stdout",
     "output_type": "stream",
     "text": [
      "Status: Optimal\n"
     ]
    }
   ],
   "source": [
    "print(f\"Status: {LpStatus[prob.status]}\")"
   ]
  },
  {
   "cell_type": "code",
   "execution_count": 23,
   "metadata": {},
   "outputs": [
    {
     "name": "stdout",
     "output_type": "stream",
     "text": [
      "BeefPercent = 66.0\n",
      "ChickenPercent = 34.0\n"
     ]
    }
   ],
   "source": [
    "for v in prob.variables():\n",
    "    print(f\"{v.name} = {v.varValue}\")"
   ]
  },
  {
   "cell_type": "code",
   "execution_count": 24,
   "metadata": {
    "scrolled": true
   },
   "outputs": [
    {
     "name": "stdout",
     "output_type": "stream",
     "text": [
      "Total Cost of Ingredient per can = 0.97\n"
     ]
    }
   ],
   "source": [
    "print(f\"Total Cost of Ingredient per can = {value(prob.objective)}\")"
   ]
  },
  {
   "cell_type": "markdown",
   "metadata": {},
   "source": [
    "### The problem"
   ]
  },
  {
   "cell_type": "markdown",
   "metadata": {},
   "source": [
    "Consider an airline that has demand for baggage handlers in a domesti airport. THe hourly requrements for 24 hours starting from midnihgt are 5, 4, 3, 2, 2, 5 6, 7, 9, 11, 13, 14, 11, 9, 11, 12, 14, 15, 18, 20, 16, 10, 7 and 5 respectively. There are 6 shifts for handlers: the first shift may start at midnight, at 1AM, at 2AM or at 3AM. If the first shift started at hour $H$, the next shifts start at $H + 4$, $H + 8$, $H + 12$, $H + 16$ and $H + 20$. Each shift wroks for 9 ocnsecutive hours. The demand is the same for all days. Using an integer programming model find the minimum number of handlers required that meets the demand and hour at which the first shift should start so that this minimum number of handlers is minimized."
   ]
  },
  {
   "cell_type": "markdown",
   "metadata": {},
   "source": [
    "#### Solution\n",
    "\n",
    "Let us denote number of handlers at $i$-th shift by $x_i$, where $i \\in \\{ 1, \\dots, 6 \\}$. Then our problem is to minimize the total number of handlers, i.e.\n",
    "\n",
    "$$\n",
    "\\min \\sum_{i=1}^6 x_i\n",
    "\\text.\n",
    "$$\n",
    "\n",
    "We will have four different optimization problems depending on the shift start time. For example, if the shift would start at midnight, then for first eight hours we would have\n",
    "\n",
    "\\begin{array}{}\n",
    "x_1 + x_6 \\ge 5 \\\\\n",
    "x_1 + x_6 \\ge 4 \\\\\n",
    "x_1 + x_6 \\ge 3 \\\\\n",
    "x_1 + x_6 \\ge 2 \\\\\n",
    "x_1 + x_2 \\ge 2 \\\\\n",
    "x_1 + x_2 \\ge 5 \\\\\n",
    "x_1 + x_2 \\ge 6 \\\\\n",
    "x_1 + x_2 \\ge 7 \\\\\n",
    "\\qquad\\dots\n",
    "\\end{array}\n",
    "\n",
    "And if the shift would start at 1AM, then the handlers would shift one row down, i.e.\n",
    "\n",
    "\\begin{array}{}\n",
    "x_5 + x_6 \\ge 5 \\\\\n",
    "x_1 + x_6 \\ge 4 \\\\\n",
    "x_1 + x_6 \\ge 3 \\\\\n",
    "x_1 + x_6 \\ge 2 \\\\\n",
    "x_1 + x_6 \\ge 2 \\\\\n",
    "x_1 + x_2 \\ge 5 \\\\\n",
    "x_1 + x_2 \\ge 6 \\\\\n",
    "x_1 + x_2 \\ge 7 \\\\\n",
    "\\qquad\\dots\n",
    "\\end{array}\n",
    "\n",
    "Each of those problem can be also presented in a matrix form, for example $A_{12AM}$ would be a $24$ rows by $6$ columns matrix. Where each row would have only two nonzero values corresponding to the current baggage handlers working. \n",
    "\n",
    "Then the mimimization problem would be\n",
    "\n",
    "\\begin{array}{}\n",
    "\\min & c^\\intercal x \\\\\n",
    "\\text{1subject to} & A_{12AM} x > b \\\\\n",
    "\\end{array}\n",
    "\n",
    "where $c \\in \\mathbf{R}^6$ is a vector of ones and $b \\in \\mathbf{R}^{24}$ is a vector of corresponding hourly requirements.\n",
    "\n",
    "We thus have four problems to solve:\n",
    "\n",
    "\\begin{array}{}\n",
    "\\min & c^\\intercal x \\\\\n",
    "\\text{subject to} & A_{12AM} x \\ge b \\\\\n",
    "\\tag{1}\n",
    "\\end{array}\n",
    "\n",
    "\\begin{array}{}\n",
    "\\min & c^\\intercal x \\\\\n",
    "\\text{subject to} & A_{1AM} x \\ge b \\\\\n",
    "\\tag{2}\n",
    "\\end{array}\n",
    "\n",
    "\\begin{array}{}\n",
    "\\min & c^\\intercal x \\\\\n",
    "\\text{subject to} & A_{2AM} x \\ge b \\\\\n",
    "\\tag{3}\n",
    "\\end{array}\n",
    "\n",
    "\\begin{array}{}\n",
    "\\min & c^\\intercal x \\\\\n",
    "\\text{subject to} & A_{3AM} x \\ge b \\\\\n",
    "\\tag{4}\n",
    "\\end{array}\n",
    "\n",
    "Where only the matrices are different. From the obtained solutions we can manually choose the optimal one. Although the problems are not in the cannonical form (we would have to switch the sign in the inequality), the software we will be using does not require that."
   ]
  },
  {
   "cell_type": "markdown",
   "metadata": {},
   "source": [
    "#### Implementation"
   ]
  },
  {
   "cell_type": "code",
   "execution_count": 28,
   "metadata": {},
   "outputs": [],
   "source": [
    "# Not yet done"
   ]
  },
  {
   "cell_type": "code",
   "execution_count": 25,
   "metadata": {},
   "outputs": [],
   "source": [
    "hourly_requirements = [5, 4, 3, 2, 2, 5, 6, 7, 9, 11, 13, 14, 11,\n",
    "                       9, 11, 12, 14, 15, 18, 20, 16, 10, 7, 5]"
   ]
  }
 ],
 "metadata": {
  "kernelspec": {
   "display_name": "Python 3",
   "language": "python",
   "name": "python3"
  },
  "language_info": {
   "codemirror_mode": {
    "name": "ipython",
    "version": 3
   },
   "file_extension": ".py",
   "mimetype": "text/x-python",
   "name": "python",
   "nbconvert_exporter": "python",
   "pygments_lexer": "ipython3",
   "version": "3.7.3"
  }
 },
 "nbformat": 4,
 "nbformat_minor": 2
}
